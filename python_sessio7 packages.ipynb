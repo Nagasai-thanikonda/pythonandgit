{
 "cells": [
  {
   "cell_type": "markdown",
   "id": "f648f96f-bc6a-4036-ad16-1f98a13b28c1",
   "metadata": {},
   "source": [
    "- text book(250) pages\n",
    "- python summary notebook\n",
    "- accountability :-\n",
    "- accountability means responsibility\n",
    "- mou=mutual understanding\n",
    "- accountability is important\n",
    "- port of materials \n",
    "- it infrmation\n",
    "- jobs\n",
    "- interview"
   ]
  },
  {
   "cell_type": "markdown",
   "id": "d388d3b4-83f7-460f-9c02-33292bc331e8",
   "metadata": {},
   "source": [
    "- step 1:- import<package_name>\n",
    "- step 2:-dir(package_name>\n",
    "- step 3:-help(package_name>\n",
    "- step 4:-package_name.method_name()\n",
    "\n",
    "              "
   ]
  },
  {
   "cell_type": "code",
   "execution_count": 6,
   "id": "4280b1a8-da1d-49e0-88ae-931e5dd9a2bf",
   "metadata": {},
   "outputs": [],
   "source": [
    "import random\n"
   ]
  },
  {
   "cell_type": "code",
   "execution_count": 8,
   "id": "06b11be4-f948-488a-b2e9-1778e2c9fdcf",
   "metadata": {},
   "outputs": [
    {
     "data": {
      "text/plain": [
       "16"
      ]
     },
     "execution_count": 8,
     "metadata": {},
     "output_type": "execute_result"
    }
   ],
   "source": [
    "random.randint(1,20)"
   ]
  },
  {
   "cell_type": "code",
   "execution_count": 9,
   "id": "059b9adb-fb99-4aa5-979c-aeb5f92cd6fb",
   "metadata": {},
   "outputs": [
    {
     "name": "stdout",
     "output_type": "stream",
     "text": [
      "Help on method randint in module random:\n",
      "\n",
      "randint(a, b) method of random.Random instance\n",
      "    Return random integer in range [a, b], including both end points.\n",
      "\n"
     ]
    }
   ],
   "source": [
    "help(random.randint)"
   ]
  },
  {
   "cell_type": "code",
   "execution_count": 11,
   "id": "6d17ae95-92ab-4cfb-878c-1f397e94ae67",
   "metadata": {},
   "outputs": [
    {
     "data": {
      "text/plain": [
       "14"
      ]
     },
     "execution_count": 11,
     "metadata": {},
     "output_type": "execute_result"
    }
   ],
   "source": [
    "random.randint(1,30)"
   ]
  },
  {
   "cell_type": "code",
   "execution_count": 13,
   "id": "a6e4bd49-4751-497a-a4db-6911216bf369",
   "metadata": {},
   "outputs": [],
   "source": [
    "import math"
   ]
  },
  {
   "cell_type": "code",
   "execution_count": 14,
   "id": "725dec1b-fe7f-4624-8e89-0a59f878f1d4",
   "metadata": {},
   "outputs": [
    {
     "data": {
      "text/plain": [
       "3.141592653589793"
      ]
     },
     "execution_count": 14,
     "metadata": {},
     "output_type": "execute_result"
    }
   ],
   "source": [
    "math.pi"
   ]
  },
  {
   "cell_type": "markdown",
   "id": "f90ba3b3-53c1-4edf-ac57-407649139ab6",
   "metadata": {},
   "source": [
    "- functions or methods\n",
    "- only functions or methods callable\n",
    "- if something says not callable means,it is not a function\n",
    "- it is not a function means,you need to remove brackets\n",
    "- bound method means=add the brackets\n",
    "- function means=add the brackets\n",
    "- not callable means=remove the brackets"
   ]
  },
  {
   "cell_type": "markdown",
   "id": "cd30c5ce-f42a-4b75-8586-c964da691a29",
   "metadata": {},
   "source": [
    "- complete package now:-\n",
    "- random\n",
    "- math\n",
    "- keyboard"
   ]
  },
  {
   "cell_type": "markdown",
   "id": "479cb064-f3aa-4f66-9587-af8299f7667c",
   "metadata": {},
   "source": [
    "**time**"
   ]
  },
  {
   "cell_type": "code",
   "execution_count": 16,
   "id": "e571c02c-08fd-44ed-b76a-8b0055b34da5",
   "metadata": {},
   "outputs": [],
   "source": [
    "import time"
   ]
  },
  {
   "cell_type": "code",
   "execution_count": 17,
   "id": "7261c584-ce05-4806-a3ff-ee9a4b8b3af7",
   "metadata": {},
   "outputs": [
    {
     "name": "stdout",
     "output_type": "stream",
     "text": [
      "father:hello\n",
      "daughter:hai dad how are you\n",
      "father:do you have school today\n"
     ]
    }
   ],
   "source": [
    "print(\"father:hello\")\n",
    "time.sleep(4)\n",
    "print(\"daughter:hai dad how are you\")    \n",
    "time.sleep(2)\n",
    "print(\"father:do you have school today\")\n",
    "\n"
   ]
  },
  {
   "cell_type": "markdown",
   "id": "8114c1ad-73a7-4045-adca-0fc8c5ca8af6",
   "metadata": {},
   "source": [
    "- computer vision is used to image operations video operations\n",
    "- we call it as open cv\n",
    "- package name cv2\n",
    "- import cv2 #run u got error-no module found\n",
    "- whenever module not found we need to install it\n",
    "- here our package name is cv2\n",
    "- 99% the installation will be like this\n",
    "- pip install package_name\n",
    "- some packages installation name will different and python import name is different#every thing will stands with \"pip\"\n",
    "- just googlr it ==> so many packages are present\n",
    "- in order to install the package we need to internal\n",
    "- if internet problem occurs while installingg we will get http error\n",
    "- copy pip installation cv2\n",
    "- after open anakonda prompt #download\n"
   ]
  },
  {
   "cell_type": "markdown",
   "id": "e4dbcadd-5cf4-482e-b184-61b16d198cb1",
   "metadata": {},
   "source": [
    "**note**"
   ]
  },
  {
   "cell_type": "markdown",
   "id": "0643339b-08cc-434e-974a-60bdd691247b",
   "metadata": {},
   "source": [
    "- pip freeze is the command to know the already existed package in our laptap\n"
   ]
  },
  {
   "cell_type": "markdown",
   "id": "e4cd95c5-2a61-47b6-b92b-2e16392a2d77",
   "metadata": {},
   "source": [
    "**packages**"
   ]
  },
  {
   "cell_type": "markdown",
   "id": "33bdb899-0198-4a10-8906-2c0b509413f1",
   "metadata": {},
   "source": [
    "- packages are important in every where. like:machine learning,python,ds&ai etc...\n",
    "- but these also efficient packages,now already discussed are random,time,math,keyboard."
   ]
  },
  {
   "cell_type": "code",
   "execution_count": 2,
   "id": "f7f031d5-b345-4639-beae-24806346b9a9",
   "metadata": {},
   "outputs": [],
   "source": [
    "import streamlit\n"
   ]
  },
  {
   "cell_type": "code",
   "execution_count": 3,
   "id": "f03e9030-c6e6-4b35-af89-0dd969686fee",
   "metadata": {},
   "outputs": [],
   "source": [
    "import numpy"
   ]
  },
  {
   "cell_type": "code",
   "execution_count": 4,
   "id": "4e848530-7b0e-4e5f-a74c-9344cbd11472",
   "metadata": {},
   "outputs": [
    {
     "data": {
      "text/plain": [
       "<module 'numpy' from 'C:\\\\Users\\\\Subramanyam\\\\anaconda3\\\\Lib\\\\site-packages\\\\numpy\\\\__init__.py'>"
      ]
     },
     "execution_count": 4,
     "metadata": {},
     "output_type": "execute_result"
    }
   ],
   "source": [
    "numpy"
   ]
  },
  {
   "cell_type": "markdown",
   "id": "d6b92189-8b0f-4a51-b874-f06f8b402eb0",
   "metadata": {},
   "source": [
    "- !pip install open cv-python\n",
    "- in jupiter notebook\n",
    "- in anakonda prompt no need add ! mark\n",
    "- in anakonda prompt no need ! mark\n",
    "- directly name you can provide\n"
   ]
  },
  {
   "cell_type": "markdown",
   "id": "837130f0-1912-4b19-b322-eb6b7d52e5ce",
   "metadata": {},
   "source": [
    "**note**"
   ]
  },
  {
   "cell_type": "markdown",
   "id": "ec289feb-02ef-4d63-8d20-5a4d0e403520",
   "metadata": {},
   "source": [
    "- if someone do not have cv2.how to share to them\n",
    "- open anakonda3.file &share to him\n"
   ]
  },
  {
   "cell_type": "markdown",
   "id": "e609175f-b92e-4ef4-85e3-d6376104a7f1",
   "metadata": {},
   "source": [
    "**hard coding** #method 1\n",
    "- # hard coding value means we are fixing the values"
   ]
  },
  {
   "cell_type": "code",
   "execution_count": 19,
   "id": "9671054d-006c-40dc-a4af-13709ee7afd6",
   "metadata": {},
   "outputs": [
    {
     "name": "stdout",
     "output_type": "stream",
     "text": [
      "30\n"
     ]
    }
   ],
   "source": [
    "num1=10 # hard coding value means we are fixing the values\n",
    "num2=20\n",
    "add=num1+num2\n",
    "print(add)"
   ]
  },
  {
   "cell_type": "markdown",
   "id": "030a0968-2645-4eef-ab85-51d0ee98ff74",
   "metadata": {},
   "source": [
    "**keyboard**  #method 2\n",
    "- the values give by user"
   ]
  },
  {
   "cell_type": "code",
   "execution_count": 24,
   "id": "abbbf5ec-f734-4618-a037-f9643a0bdbb4",
   "metadata": {},
   "outputs": [
    {
     "name": "stdin",
     "output_type": "stream",
     "text": [
      "enter the num1: 20\n",
      "enter the num2: 30\n"
     ]
    },
    {
     "name": "stdout",
     "output_type": "stream",
     "text": [
      "50\n"
     ]
    }
   ],
   "source": [
    "num1=eval(input(\"enter the num1:\")) # the values given by user at result time\n",
    "num2=eval(input(\"enter the num2:\")) \n",
    "add=num1+num2\n",
    "print(add)"
   ]
  },
  {
   "cell_type": "markdown",
   "id": "a372339b-f7b4-4aa5-a486-10024471630a",
   "metadata": {},
   "source": [
    "**random**  #method 3\n",
    "- we can take the numbers randomly also\n",
    "- always how we are passing the values"
   ]
  },
  {
   "cell_type": "code",
   "execution_count": 23,
   "id": "f8f84150-91d1-4111-b733-888da4897e31",
   "metadata": {},
   "outputs": [
    {
     "name": "stdout",
     "output_type": "stream",
     "text": [
      "the addition of 15 and 20 is 35\n"
     ]
    }
   ],
   "source": [
    "num1=random.randint(1,20) # the values assign randomly\n",
    "num2=random.randint(10,20)\n",
    "add=num1+num2\n",
    "print(f\"the addition of {num1} and {num2} is {add}\")"
   ]
  },
  {
   "cell_type": "markdown",
   "id": "9800ce27-e7fa-4e06-b32b-63727ad7760b",
   "metadata": {},
   "source": [
    "**how to pass the numbers**\n",
    "- hardcoding\n",
    "- useing keyboard\n",
    "- using random package\n",
    "    "
   ]
  },
  {
   "cell_type": "code",
   "execution_count": 25,
   "id": "23545e37-e87f-4204-b3c1-e5f2249cff6c",
   "metadata": {},
   "outputs": [
    {
     "name": "stdout",
     "output_type": "stream",
     "text": [
      "30\n"
     ]
    }
   ],
   "source": [
    "#method:1\n",
    "num1=10 # hard coding value means we are fixing the values\n",
    "num2=20\n",
    "add=num1+num2\n",
    "print(add)"
   ]
  },
  {
   "cell_type": "code",
   "execution_count": 27,
   "id": "407e1ac8-29c2-4d43-b56a-505bd79b89f2",
   "metadata": {},
   "outputs": [
    {
     "name": "stdin",
     "output_type": "stream",
     "text": [
      "enter the num1: 20\n",
      "enter the num2: 30\n"
     ]
    },
    {
     "name": "stdout",
     "output_type": "stream",
     "text": [
      "50\n"
     ]
    }
   ],
   "source": [
    "#method:2\n",
    "num1=eval(input(\"enter the num1:\")) # the values given by user at result time\n",
    "num2=eval(input(\"enter the num2:\")) \n",
    "add=num1+num2\n",
    "print(add)\n"
   ]
  },
  {
   "cell_type": "code",
   "execution_count": 28,
   "id": "e26e35a0-b6d7-4c8a-9853-915c6bfdda9f",
   "metadata": {},
   "outputs": [
    {
     "name": "stdout",
     "output_type": "stream",
     "text": [
      "the addition of 5 and 13 is 18\n"
     ]
    }
   ],
   "source": [
    "#method:3\n",
    "num1=random.randint(1,20) # the values assign randomly\n",
    "num2=random.randint(10,20)\n",
    "add=num1+num2\n",
    "print(f\"the addition of {num1} and {num2} is {add}\")"
   ]
  },
  {
   "cell_type": "code",
   "execution_count": 30,
   "id": "568f72a0-a85c-49c6-8a25-ec32f6add0e1",
   "metadata": {},
   "outputs": [
    {
     "name": "stdin",
     "output_type": "stream",
     "text": [
      "enter the num2: 20\n"
     ]
    },
    {
     "name": "stdout",
     "output_type": "stream",
     "text": [
      "the average  of 10 and 20,3 is 11.0\n"
     ]
    }
   ],
   "source": [
    "num1=10\n",
    "num2=eval(input(\"enter the num2:\")) \n",
    "num3=random.randint(1,10)\n",
    "avg=(num1+num2+num3)/3\n",
    "print(f\"the average  of {num1} and {num2},{num3} is {avg}\")\n"
   ]
  },
  {
   "cell_type": "code",
   "execution_count": 31,
   "id": "67c8547f-2f85-4a8a-ad6f-eb7baceb38d5",
   "metadata": {},
   "outputs": [
    {
     "name": "stdin",
     "output_type": "stream",
     "text": [
      "enter the num2: 20\n"
     ]
    },
    {
     "name": "stdout",
     "output_type": "stream",
     "text": [
      "the average  of 10 and 20,1 is (10.333333333333334, 2)\n"
     ]
    }
   ],
   "source": [
    "num1=10\n",
    "num2=eval(input(\"enter the num2:\")) \n",
    "num3=random.randint(1,10)\n",
    "avg=(num1+num2+num3)/3,2 # if u have no confusion of brackets use this\n",
    "print(f\"the average  of {num1} and {num2},{num3} is {avg}\")"
   ]
  },
  {
   "cell_type": "code",
   "execution_count": 33,
   "id": "5bb91c52-b0e1-4ebb-bfa6-f7b99e9bf751",
   "metadata": {},
   "outputs": [
    {
     "name": "stdin",
     "output_type": "stream",
     "text": [
      "enter the num2: 20\n"
     ]
    },
    {
     "name": "stdout",
     "output_type": "stream",
     "text": [
      "the average  of 10 and 20,3 is 11.0\n"
     ]
    }
   ],
   "source": [
    "num1=10\n",
    "num2=eval(input(\"enter the num2:\")) \n",
    "num3=random.randint(1,10)\n",
    "avg=(num1+num2+num3)/3\n",
    "avg1=round(avg,2) # if u have confusion of brackets use this.\n",
    "print(f\"the average  of {num1} and {num2},{num3} is {avg}\")"
   ]
  },
  {
   "cell_type": "markdown",
   "id": "2fb19428-2409-42cf-806f-adedd211af1b",
   "metadata": {},
   "source": [
    "**round**"
   ]
  },
  {
   "cell_type": "code",
   "execution_count": 34,
   "id": "1eb3fdf1-111e-41e3-b3d4-5ac074c04e98",
   "metadata": {},
   "outputs": [
    {
     "data": {
      "text/plain": [
       "23"
      ]
     },
     "execution_count": 34,
     "metadata": {},
     "output_type": "execute_result"
    }
   ],
   "source": [
    "avg=22.6666668\n",
    "round(avg)"
   ]
  },
  {
   "cell_type": "code",
   "execution_count": 35,
   "id": "3d07c5f5-a4af-4fd2-bda5-771e0e8ffcc3",
   "metadata": {},
   "outputs": [
    {
     "data": {
      "text/plain": [
       "22.67"
      ]
     },
     "execution_count": 35,
     "metadata": {},
     "output_type": "execute_result"
    }
   ],
   "source": [
    "avg=22.6666668\n",
    "round(avg,2)"
   ]
  },
  {
   "cell_type": "code",
   "execution_count": 36,
   "id": "7a0ab4f3-4f6a-41d8-ab85-c7667d93aee3",
   "metadata": {},
   "outputs": [
    {
     "data": {
      "text/plain": [
       "22.667"
      ]
     },
     "execution_count": 36,
     "metadata": {},
     "output_type": "execute_result"
    }
   ],
   "source": [
    "avg=22.6666668\n",
    "round(avg,3)"
   ]
  },
  {
   "cell_type": "markdown",
   "id": "0cbf67e9-6051-4ce1-8b1d-8255f9014469",
   "metadata": {},
   "source": [
    "- type()\n",
    "- input()\n",
    "- print()\n",
    "- round()"
   ]
  },
  {
   "cell_type": "markdown",
   "id": "6c3555c4-fbd0-49c4-babb-47aa2d245254",
   "metadata": {},
   "source": [
    "**assignment**\n",
    "- 11 questions do on random values everywhere\n",
    "- 11 th question use print statement using time.sleep\n"
   ]
  },
  {
   "cell_type": "markdown",
   "id": "d228fee7-98a9-4be7-bb9d-85493a3e528f",
   "metadata": {},
   "source": [
    "- in the entire notebook\n",
    "- if yo import packages\n",
    "- no need to imprt everywhere\n",
    "- just verify if the line is executed or not.\n",
    "**all the packages we will starting import front side only**"
   ]
  },
  {
   "cell_type": "code",
   "execution_count": null,
   "id": "bd5dd11b-c2fe-4c3a-a811-10fa3a9e25c1",
   "metadata": {},
   "outputs": [],
   "source": []
  }
 ],
 "metadata": {
  "kernelspec": {
   "display_name": "Python 3 (ipykernel)",
   "language": "python",
   "name": "python3"
  },
  "language_info": {
   "codemirror_mode": {
    "name": "ipython",
    "version": 3
   },
   "file_extension": ".py",
   "mimetype": "text/x-python",
   "name": "python",
   "nbconvert_exporter": "python",
   "pygments_lexer": "ipython3",
   "version": "3.11.7"
  }
 },
 "nbformat": 4,
 "nbformat_minor": 5
}
