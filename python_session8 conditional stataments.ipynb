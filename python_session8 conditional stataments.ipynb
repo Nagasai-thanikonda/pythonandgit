{
 "cells": [
  {
   "cell_type": "markdown",
   "id": "8f8bc49e-4cbb-4ee9-a0bc-aab258342f86",
   "metadata": {},
   "source": [
    "- practice the class notes\n",
    "- do the assignments\n",
    "- text book"
   ]
  },
  {
   "cell_type": "markdown",
   "id": "cd9eefac-1a44-4d2d-a77c-27e90c31fea9",
   "metadata": {},
   "source": [
    "**conditional statements**"
   ]
  },
  {
   "cell_type": "markdown",
   "id": "f7beb275-cc24-4703-a9f7-f62680ec4eb9",
   "metadata": {},
   "source": [
    "- conditinal statements means we want to run the code lines based on condition\n",
    "- if rain comes i will not go to school,otherwiae i will go to movie\n",
    "- rain is there will effort one process\n",
    "- rain is not there will effect another process"
   ]
  },
  {
   "cell_type": "markdown",
   "id": "681901f2-dd25-44af-a4b6-ff6dc760aa8a",
   "metadata": {},
   "source": [
    "- **if**\n",
    "- **elif**\n",
    "- **else**\n",
    "- there are threee conditional statements are present"
   ]
  },
  {
   "cell_type": "markdown",
   "id": "5f175dd6-4be7-41aa-b3bb-dfc9bfd98c68",
   "metadata": {},
   "source": [
    "**if**"
   ]
  },
  {
   "cell_type": "markdown",
   "id": "b080ed57-18bd-4f53-9c2e-e5522442d8e4",
   "metadata": {},
   "source": [
    "- #syntax\n",
    "- if condition:\n",
    "-    codeline1\n",
    "-    codeline2"
   ]
  },
  {
   "cell_type": "markdown",
   "id": "f5eec296-ca6a-45b0-b801-6d8959c6e91a",
   "metadata": {},
   "source": [
    "- whenever any line start with keyword(green) at the end of line we have colon.\n",
    "- whenever we have a colon(:) the nextline start with same gap\n",
    "- and this gap is called **indentation**\n",
    "- how many lines we are maintaining gap(indentation) that all are under ne area.\n"
   ]
  },
  {
   "cell_type": "markdown",
   "id": "545c37a1-1084-4383-8da4-1551757edf5e",
   "metadata": {},
   "source": [
    "- if is a conditional statement , it will check the condition is true or false\n",
    "- if the condition will true then only it will enter inside the if area\n",
    "- and execute those code lines\n",
    "- if the condition will false,then it wil not enter inside the if area\n",
    "- and it will not execute those code lines"
   ]
  },
  {
   "cell_type": "code",
   "execution_count": 2,
   "id": "3942a691-d91f-4211-b47b-ec6158805830",
   "metadata": {},
   "outputs": [
    {
     "data": {
      "text/plain": [
       "True"
      ]
     },
     "execution_count": 2,
     "metadata": {},
     "output_type": "execute_result"
    }
   ],
   "source": [
    "100>10\n"
   ]
  },
  {
   "cell_type": "code",
   "execution_count": 5,
   "id": "09ec8c07-fa2e-4626-bae8-a324a1980492",
   "metadata": {},
   "outputs": [
    {
     "name": "stdout",
     "output_type": "stream",
     "text": [
      "hello\n"
     ]
    }
   ],
   "source": [
    "if 100>10:\n",
    "    print(\"hello\")\n",
    "   "
   ]
  },
  {
   "cell_type": "code",
   "execution_count": 11,
   "id": "75f70dbd-f224-476d-bfb5-38630a3fe540",
   "metadata": {},
   "outputs": [
    {
     "ename": "IndentationError",
     "evalue": "expected an indented block after 'if' statement on line 1 (3386404400.py, line 2)",
     "output_type": "error",
     "traceback": [
      "\u001b[1;36m  Cell \u001b[1;32mIn[11], line 2\u001b[1;36m\u001b[0m\n\u001b[1;33m    print(\"hello\") #indentation error\u001b[0m\n\u001b[1;37m    ^\u001b[0m\n\u001b[1;31mIndentationError\u001b[0m\u001b[1;31m:\u001b[0m expected an indented block after 'if' statement on line 1\n"
     ]
    }
   ],
   "source": [
    "if 100>10:\n",
    "print(\"hello\") #indentation error"
   ]
  },
  {
   "cell_type": "code",
   "execution_count": 7,
   "id": "bc1768a7-a4bc-4a94-92f5-f54b1b5c9af9",
   "metadata": {},
   "outputs": [
    {
     "name": "stdout",
     "output_type": "stream",
     "text": [
      "hello\n"
     ]
    }
   ],
   "source": [
    "if 100>10:\n",
    "    print(\"hello\")\n",
    "    "
   ]
  },
  {
   "cell_type": "markdown",
   "id": "192db8db-52fa-4928-8dfd-1e7abb88a201",
   "metadata": {},
   "source": [
    "**mistake:1**"
   ]
  },
  {
   "cell_type": "markdown",
   "id": "ffa23127-db91-432b-b27a-bd34fe7f3756",
   "metadata": {},
   "source": [
    "**indentation**"
   ]
  },
  {
   "cell_type": "code",
   "execution_count": 13,
   "id": "dc5b6c3b-67af-4b5f-b699-cc992b10e023",
   "metadata": {},
   "outputs": [
    {
     "ename": "IndentationError",
     "evalue": "expected an indented block after 'if' statement on line 1 (3386404400.py, line 2)",
     "output_type": "error",
     "traceback": [
      "\u001b[1;36m  Cell \u001b[1;32mIn[13], line 2\u001b[1;36m\u001b[0m\n\u001b[1;33m    print(\"hello\") #indentation error\u001b[0m\n\u001b[1;37m    ^\u001b[0m\n\u001b[1;31mIndentationError\u001b[0m\u001b[1;31m:\u001b[0m expected an indented block after 'if' statement on line 1\n"
     ]
    }
   ],
   "source": [
    "if 100>10:\n",
    "print(\"hello\") #indentation error"
   ]
  },
  {
   "cell_type": "code",
   "execution_count": 14,
   "id": "9bd74d59-791e-4739-96cd-3bec25c4a4a4",
   "metadata": {},
   "outputs": [
    {
     "name": "stdout",
     "output_type": "stream",
     "text": [
      "hello\n"
     ]
    }
   ],
   "source": [
    "if 100>10:\n",
    " print(\"hello\") #indentation error"
   ]
  },
  {
   "cell_type": "markdown",
   "id": "c2157624-60d6-46b8-a00e-54cb849f5205",
   "metadata": {},
   "source": [
    "**mistake-2**"
   ]
  },
  {
   "cell_type": "markdown",
   "id": "ea1cee69-1e20-41ce-8dbd-130c852dc7d8",
   "metadata": {},
   "source": [
    "**colon missing**"
   ]
  },
  {
   "cell_type": "code",
   "execution_count": 15,
   "id": "7c8afc25-1925-450f-8945-823b23cdfa33",
   "metadata": {},
   "outputs": [
    {
     "ename": "SyntaxError",
     "evalue": "expected ':' (4173596931.py, line 1)",
     "output_type": "error",
     "traceback": [
      "\u001b[1;36m  Cell \u001b[1;32mIn[15], line 1\u001b[1;36m\u001b[0m\n\u001b[1;33m    if 100>10\u001b[0m\n\u001b[1;37m             ^\u001b[0m\n\u001b[1;31mSyntaxError\u001b[0m\u001b[1;31m:\u001b[0m expected ':'\n"
     ]
    }
   ],
   "source": [
    "if 100>10 # colon(:) is missing\n",
    "    print(\"hello\")"
   ]
  },
  {
   "cell_type": "markdown",
   "id": "4a47231c-a254-43b7-995e-f0c230819d89",
   "metadata": {},
   "source": [
    "**mistake-3**"
   ]
  },
  {
   "cell_type": "markdown",
   "id": "97c00524-6ec1-43d1-8d09-3ada2f32a7cd",
   "metadata": {},
   "source": [
    "**forgot condition**"
   ]
  },
  {
   "cell_type": "code",
   "execution_count": 17,
   "id": "c361b673-ab9a-4161-926d-11331996e8b6",
   "metadata": {},
   "outputs": [
    {
     "ename": "SyntaxError",
     "evalue": "invalid syntax (3604349424.py, line 1)",
     "output_type": "error",
     "traceback": [
      "\u001b[1;36m  Cell \u001b[1;32mIn[17], line 1\u001b[1;36m\u001b[0m\n\u001b[1;33m    if : # forgot condition\u001b[0m\n\u001b[1;37m       ^\u001b[0m\n\u001b[1;31mSyntaxError\u001b[0m\u001b[1;31m:\u001b[0m invalid syntax\n"
     ]
    }
   ],
   "source": [
    "if : # forgot condition\n",
    "    print(\"hello\")"
   ]
  },
  {
   "cell_type": "markdown",
   "id": "37bbcaea-80be-429e-90e1-83346f0b90f5",
   "metadata": {},
   "source": [
    "**mistake-4**"
   ]
  },
  {
   "cell_type": "markdown",
   "id": "2618f1dd-76c7-4c5c-9cb6-29ee9e3e12b0",
   "metadata": {},
   "source": [
    "**missing peranthasis**"
   ]
  },
  {
   "cell_type": "code",
   "execution_count": 19,
   "id": "f378228d-88ed-4b50-8316-eb8da6b06a82",
   "metadata": {},
   "outputs": [
    {
     "ename": "IndentationError",
     "evalue": "expected an indented block after 'if' statement on line 1 (922467245.py, line 2)",
     "output_type": "error",
     "traceback": [
      "\u001b[1;36m  Cell \u001b[1;32mIn[19], line 2\u001b[1;36m\u001b[0m\n\u001b[1;33m    print \"hello\" # missing peranthasis for print\u001b[0m\n\u001b[1;37m    ^\u001b[0m\n\u001b[1;31mIndentationError\u001b[0m\u001b[1;31m:\u001b[0m expected an indented block after 'if' statement on line 1\n"
     ]
    }
   ],
   "source": [
    "if 100>10: \n",
    "    print \"hello\" # missing peranthasis for print "
   ]
  },
  {
   "cell_type": "markdown",
   "id": "38b8b3ca-c240-42fd-a4c2-11c30c5d67ab",
   "metadata": {},
   "source": [
    "**mistake-5**"
   ]
  },
  {
   "cell_type": "markdown",
   "id": "71e34ef0-3e91-4616-97e4-2478044d196f",
   "metadata": {},
   "source": [
    "**variable to print statement**"
   ]
  },
  {
   "cell_type": "markdown",
   "id": "c09ba378-d08e-4d06-b8f4-9b3d4628ff0d",
   "metadata": {},
   "source": [
    "- never assign a variable to a print statement\n",
    "- print we are using for to see the answer\n",
    "- never use the variable to print"
   ]
  },
  {
   "cell_type": "code",
   "execution_count": 22,
   "id": "13eb6b3d-042b-4269-b13c-2c2a074f34ef",
   "metadata": {},
   "outputs": [
    {
     "name": "stdout",
     "output_type": "stream",
     "text": [
      "hello\n"
     ]
    }
   ],
   "source": [
    "if 100>10:#\n",
    "    name=print (\"hello\") #some times run,it will effect in future."
   ]
  },
  {
   "cell_type": "markdown",
   "id": "02132611-dc61-470c-bac5-b9b7ecedfb80",
   "metadata": {},
   "source": [
    "**mistake-6**"
   ]
  },
  {
   "cell_type": "markdown",
   "id": "71afe3d7-3cc4-4430-8f4e-37dd84d70786",
   "metadata": {},
   "source": [
    "- all types of syntax error\n",
    "- spelling mistakes\n"
   ]
  },
  {
   "cell_type": "code",
   "execution_count": 23,
   "id": "4fb84005-6943-4cc4-b540-0b895524d20d",
   "metadata": {},
   "outputs": [
    {
     "ename": "SyntaxError",
     "evalue": "invalid syntax (360047753.py, line 1)",
     "output_type": "error",
     "traceback": [
      "\u001b[1;36m  Cell \u001b[1;32mIn[23], line 1\u001b[1;36m\u001b[0m\n\u001b[1;33m    if100>10:\u001b[0m\n\u001b[1;37m            ^\u001b[0m\n\u001b[1;31mSyntaxError\u001b[0m\u001b[1;31m:\u001b[0m invalid syntax\n"
     ]
    }
   ],
   "source": [
    "if100>10: #after if there is a space in syntax , so iit is error\n"
   ]
  },
  {
   "cell_type": "markdown",
   "id": "aee7d07f-bff0-441e-adae-c9606c5eb8a4",
   "metadata": {},
   "source": [
    "**mistake-7**\n"
   ]
  },
  {
   "cell_type": "markdown",
   "id": "d1ba8271-f67a-4f31-912b-f7026ab13adf",
   "metadata": {},
   "source": [
    "**type error**"
   ]
  },
  {
   "cell_type": "code",
   "execution_count": 24,
   "id": "58a9bc8b-71ea-4d35-af2d-ba5b9607ba9f",
   "metadata": {},
   "outputs": [
    {
     "ename": "TypeError",
     "evalue": "'>' not supported between instances of 'int' and 'str'",
     "output_type": "error",
     "traceback": [
      "\u001b[1;31m---------------------------------------------------------------------------\u001b[0m",
      "\u001b[1;31mTypeError\u001b[0m                                 Traceback (most recent call last)",
      "Cell \u001b[1;32mIn[24], line 1\u001b[0m\n\u001b[1;32m----> 1\u001b[0m \u001b[38;5;28;01mif\u001b[39;00m \u001b[38;5;241m10\u001b[39m\u001b[38;5;241m>\u001b[39m\u001b[38;5;124m'\u001b[39m\u001b[38;5;124mpython\u001b[39m\u001b[38;5;124m'\u001b[39m:\n\u001b[0;32m      2\u001b[0m     \u001b[38;5;28mprint\u001b[39m(\u001b[38;5;124m'\u001b[39m\u001b[38;5;124mi am good\u001b[39m\u001b[38;5;124m'\u001b[39m)\n",
      "\u001b[1;31mTypeError\u001b[0m: '>' not supported between instances of 'int' and 'str'"
     ]
    }
   ],
   "source": [
    "if 10>'python': # this is error, beacause we are comparing the int and string. it is not possible.\n",
    "    print('i am good')"
   ]
  },
  {
   "cell_type": "code",
   "execution_count": 25,
   "id": "bb38ee8d-a25e-4263-84d4-4fc90950df0c",
   "metadata": {},
   "outputs": [
    {
     "name": "stdout",
     "output_type": "stream",
     "text": [
      "hlo\n",
      "good morning\n"
     ]
    }
   ],
   "source": [
    "if 100>10:\n",
    "    print('hlo')\n",
    "print('good morning')"
   ]
  },
  {
   "cell_type": "code",
   "execution_count": 26,
   "id": "0b7db24c-9408-4442-af24-0756178bbc74",
   "metadata": {},
   "outputs": [
    {
     "name": "stdout",
     "output_type": "stream",
     "text": [
      "hlo\n",
      "okay\n",
      "good morning\n",
      "bye\n"
     ]
    }
   ],
   "source": [
    "if 100>10:\n",
    "    print('hlo')\n",
    "    print('okay')\n",
    "print('good morning')\n",
    "print('bye')"
   ]
  },
  {
   "cell_type": "code",
   "execution_count": 27,
   "id": "e8273cdb-94b6-4d70-b02f-28a78f7ac7be",
   "metadata": {},
   "outputs": [
    {
     "name": "stdout",
     "output_type": "stream",
     "text": [
      "10\n",
      "20\n",
      "hlo\n",
      "okay\n",
      "good morning\n",
      "bye\n"
     ]
    }
   ],
   "source": [
    "print(10)\n",
    "print(20)\n",
    "if 100>10:\n",
    "    print('hlo')\n",
    "    print('okay')\n",
    "print('good morning')\n",
    "print('bye')"
   ]
  },
  {
   "cell_type": "code",
   "execution_count": 29,
   "id": "0b8e0089-d893-4847-b055-cc805dedcdc1",
   "metadata": {},
   "outputs": [
    {
     "ename": "IndentationError",
     "evalue": "unexpected indent (1943298070.py, line 5)",
     "output_type": "error",
     "traceback": [
      "\u001b[1;36m  Cell \u001b[1;32mIn[29], line 5\u001b[1;36m\u001b[0m\n\u001b[1;33m    print('bye') #unexpected error space is not give.\u001b[0m\n\u001b[1;37m    ^\u001b[0m\n\u001b[1;31mIndentationError\u001b[0m\u001b[1;31m:\u001b[0m unexpected indent\n"
     ]
    }
   ],
   "source": [
    "if 100>10:\n",
    "    print('hlo')\n",
    "    print('okay')\n",
    "print('good morning')\n",
    "    print('bye') #unexpected error space is error here."
   ]
  },
  {
   "cell_type": "code",
   "execution_count": 30,
   "id": "e107ae2b-95c4-49e7-98b7-52303a0eadba",
   "metadata": {},
   "outputs": [
    {
     "ename": "SyntaxError",
     "evalue": "incomplete input (3284424522.py, line 1)",
     "output_type": "error",
     "traceback": [
      "\u001b[1;36m  Cell \u001b[1;32mIn[30], line 1\u001b[1;36m\u001b[0m\n\u001b[1;33m    if true:\u001b[0m\n\u001b[1;37m            ^\u001b[0m\n\u001b[1;31mSyntaxError\u001b[0m\u001b[1;31m:\u001b[0m incomplete input\n"
     ]
    }
   ],
   "source": [
    "if true: #do not use the true nexxt time\n",
    "    print('hello')"
   ]
  },
  {
   "cell_type": "code",
   "execution_count": 32,
   "id": "ba31dad6-c1e1-4557-95d9-9248beb2731c",
   "metadata": {},
   "outputs": [
    {
     "name": "stdout",
     "output_type": "stream",
     "text": [
      "hello\n"
     ]
    }
   ],
   "source": [
    "if True: # True is boolean\n",
    "      print('hello')"
   ]
  },
  {
   "cell_type": "code",
   "execution_count": 33,
   "id": "eeed309e-b00b-42df-86f9-3d5ed3504973",
   "metadata": {},
   "outputs": [
    {
     "name": "stdout",
     "output_type": "stream",
     "text": [
      "hi\n"
     ]
    }
   ],
   "source": [
    "if 100: #100 also boolean\n",
    "    print('hi')"
   ]
  },
  {
   "cell_type": "code",
   "execution_count": 39,
   "id": "b1bee555-ef80-459a-9820-40426b968a37",
   "metadata": {},
   "outputs": [],
   "source": [
    "if '': #space is error \n",
    "    print('hi')"
   ]
  },
  {
   "cell_type": "code",
   "execution_count": 41,
   "id": "ccf23140-6092-4406-bc6a-60d191440f3f",
   "metadata": {},
   "outputs": [
    {
     "name": "stdout",
     "output_type": "stream",
     "text": [
      "hi\n",
      "oooo\n"
     ]
    }
   ],
   "source": [
    "if 'hello': # hello also a boolean ,so it can be accept\n",
    "    print('hi')\n",
    "print('oooo')"
   ]
  },
  {
   "cell_type": "code",
   "execution_count": 42,
   "id": "69618967-47bf-403c-af6b-1567234ba7ae",
   "metadata": {},
   "outputs": [
    {
     "name": "stdout",
     "output_type": "stream",
     "text": [
      "10\n",
      "hrllo\n",
      "good\n"
     ]
    }
   ],
   "source": [
    "print(10)\n",
    "if True:\n",
    "    print('hrllo')\n",
    "print('good')"
   ]
  },
  {
   "cell_type": "markdown",
   "id": "5a559c42-1199-4532-b30b-ed6eef133821",
   "metadata": {},
   "source": [
    "**if-else**\n"
   ]
  },
  {
   "cell_type": "markdown",
   "id": "3d341e81-2e7e-4b72-8b99-038c4009d626",
   "metadata": {},
   "source": [
    "- if required cndition\n",
    "- if condition is true, then it will be executed if block\n",
    "- otherwise it can directly goto else bolck\n",
    "- **else** bolck does not required any condition."
   ]
  },
  {
   "cell_type": "markdown",
   "id": "25783c9c-6b99-4858-a104-d570517efc82",
   "metadata": {},
   "source": [
    "**syntax**"
   ]
  },
  {
   "cell_type": "markdown",
   "id": "d66b7444-8519-48cc-95f2-94e764c82cbd",
   "metadata": {},
   "source": [
    "- if condition:\n",
    "-  codeline1\n",
    "-  codeline2\n",
    "- else:\n",
    "-    codeline"
   ]
  },
  {
   "cell_type": "code",
   "execution_count": 45,
   "id": "ff8866f4-376d-41f8-8fd4-6937ce6326b5",
   "metadata": {},
   "outputs": [
    {
     "name": "stdout",
     "output_type": "stream",
     "text": [
      "hello\n",
      "good condition is correct\n"
     ]
    }
   ],
   "source": [
    "print('hello') #keyword , colon,indentation\n",
    "if 100<30:\n",
    "    print('good condition is correct')\n",
    "else:\n",
    "    print('good condition is correct')"
   ]
  },
  {
   "cell_type": "code",
   "execution_count": 49,
   "id": "390e7000-2041-43b2-af21-4facba9fded1",
   "metadata": {},
   "outputs": [
    {
     "ename": "IndentationError",
     "evalue": "unindent does not match any outer indentation level (<tokenize>, line 4)",
     "output_type": "error",
     "traceback": [
      "\u001b[1;36m  File \u001b[1;32m<tokenize>:4\u001b[1;36m\u001b[0m\n\u001b[1;33m    print('good condition is correct')    #indentaton error,invalid syntax\u001b[0m\n\u001b[1;37m    ^\u001b[0m\n\u001b[1;31mIndentationError\u001b[0m\u001b[1;31m:\u001b[0m unindent does not match any outer indentation level\n"
     ]
    }
   ],
   "source": [
    "print('hello') #keyword , colon,indentation\n",
    "if 100<30:\n",
    "    print('good condition is correct')\n",
    " print('good condition is correct')    #indentaton error,invalid syntax\n",
    "else:\n",
    "    print('good condition is correct')\n",
    "print('bye')  "
   ]
  },
  {
   "cell_type": "code",
   "execution_count": 53,
   "id": "7423cd8d-65ab-4f89-ab33-97d4b414bbba",
   "metadata": {},
   "outputs": [
    {
     "name": "stdout",
     "output_type": "stream",
     "text": [
      "10\n",
      "0\n",
      "10\n",
      "0.0\n"
     ]
    },
    {
     "ename": "ZeroDivisionError",
     "evalue": "float division by zero",
     "output_type": "error",
     "traceback": [
      "\u001b[1;31m---------------------------------------------------------------------------\u001b[0m",
      "\u001b[1;31mZeroDivisionError\u001b[0m                         Traceback (most recent call last)",
      "Cell \u001b[1;32mIn[53], line 10\u001b[0m\n\u001b[0;32m      8\u001b[0m b\u001b[38;5;241m=\u001b[39mb\u001b[38;5;241m/\u001b[39ma\n\u001b[0;32m      9\u001b[0m \u001b[38;5;28mprint\u001b[39m(b)\n\u001b[1;32m---> 10\u001b[0m e\u001b[38;5;241m=\u001b[39ma\u001b[38;5;241m/\u001b[39mb\n\u001b[0;32m     11\u001b[0m \u001b[38;5;28mprint\u001b[39m(e)\n",
      "\u001b[1;31mZeroDivisionError\u001b[0m: float division by zero"
     ]
    }
   ],
   "source": [
    "if True:\n",
    "    a=10\n",
    "    b=0\n",
    "    print(a)\n",
    "    print(b)\n",
    "    c=a+b\n",
    "    print(c)\n",
    "    b=b/a\n",
    "    print(b)\n",
    "    e=a/b\n",
    "    print(e)"
   ]
  },
  {
   "cell_type": "markdown",
   "id": "cf32355f-6d4d-4adc-9edc-4d9d5a5d36b8",
   "metadata": {},
   "source": [
    "- (0/10),(10/0,)(0/0)\n"
   ]
  },
  {
   "cell_type": "markdown",
   "id": "85aae6f7-d705-481f-b158-09ecc800351b",
   "metadata": {},
   "source": [
    "- above numbers not division possible, so it gives error\n"
   ]
  },
  {
   "cell_type": "markdown",
   "id": "84b4db46-bf70-44d2-854d-7dc6049ba238",
   "metadata": {},
   "source": [
    "**normal division**"
   ]
  },
  {
   "cell_type": "code",
   "execution_count": 55,
   "id": "7b8f5e59-330a-4183-bf1a-ec28a2e420b9",
   "metadata": {},
   "outputs": [
    {
     "data": {
      "text/plain": [
       "1.25"
      ]
     },
     "execution_count": 55,
     "metadata": {},
     "output_type": "execute_result"
    }
   ],
   "source": [
    "5/4 #normal divide"
   ]
  },
  {
   "cell_type": "markdown",
   "id": "931becd0-4a44-4cbf-821d-83fc57157570",
   "metadata": {},
   "source": [
    "**floor division** # quotient"
   ]
  },
  {
   "cell_type": "code",
   "execution_count": 56,
   "id": "1cf321ff-2f2e-4709-bbea-1aeb82e6288a",
   "metadata": {},
   "outputs": [
    {
     "data": {
      "text/plain": [
       "1"
      ]
     },
     "execution_count": 56,
     "metadata": {},
     "output_type": "execute_result"
    }
   ],
   "source": [
    "5//4"
   ]
  },
  {
   "cell_type": "markdown",
   "id": "a76b67cb-0939-4864-9d5a-b589e63d1c91",
   "metadata": {},
   "source": [
    "**modules division** #remainder"
   ]
  },
  {
   "cell_type": "code",
   "execution_count": 57,
   "id": "7ae10eb4-f6f6-4eba-8175-fb6c6b09ec0d",
   "metadata": {},
   "outputs": [
    {
     "data": {
      "text/plain": [
       "1"
      ]
     },
     "execution_count": 57,
     "metadata": {},
     "output_type": "execute_result"
    }
   ],
   "source": [
    "5%4"
   ]
  },
  {
   "cell_type": "markdown",
   "id": "f9df0c36-6bc4-42aa-998e-79cfd47c7440",
   "metadata": {},
   "source": [
    "- write a program  ask the user enter a number.find it even number or odd number."
   ]
  },
  {
   "cell_type": "code",
   "execution_count": 58,
   "id": "4203a5cc-a57a-471d-aee7-b16dcb4393a6",
   "metadata": {},
   "outputs": [
    {
     "name": "stdin",
     "output_type": "stream",
     "text": [
      "enter the number1: 20\n"
     ]
    },
    {
     "name": "stdout",
     "output_type": "stream",
     "text": [
      "given number is even number\n"
     ]
    }
   ],
   "source": [
    "\n",
    "# write a program , \n",
    "#ask the user enter a number.\n",
    "#find it even number or odd number.\n",
    "num1=eval(input(\"enter the number1:\"))\n",
    "if num1%2==0:\n",
    "    print('given number is even number')\n",
    "else:\n",
    "    print('it is odd number')"
   ]
  },
  {
   "cell_type": "markdown",
   "id": "a143e123-7548-4116-89c0-5dbadf163a2e",
   "metadata": {},
   "source": [
    "- write a program to swap a two numbers"
   ]
  },
  {
   "cell_type": "code",
   "execution_count": 75,
   "id": "1f77d892-e757-4b4e-bdb5-32bc33a810de",
   "metadata": {},
   "outputs": [
    {
     "name": "stdout",
     "output_type": "stream",
     "text": [
      "10\n",
      "20\n",
      "after swapping num1 and num2 is 20,10 \n",
      "before swapping num1 and num2 is 20,10 \n"
     ]
    }
   ],
   "source": [
    "num1=10\n",
    "num2=20\n",
    "num3=0\n",
    "num3=num1\n",
    "print(num3)\n",
    "num1=num2#num1=20\n",
    "print(num1)\n",
    "#num3=num1\n",
    "num2=num3#num3=10\n",
    "print(f\"after swapping num1 and num2 is {num1},{num2} \")\n",
    "print(f\"before swapping num1 and num2 is {num1},{num3} \")"
   ]
  },
  {
   "cell_type": "code",
   "execution_count": 19,
   "id": "042fa8bd-b65a-47fe-b725-256cb65bd33d",
   "metadata": {},
   "outputs": [],
   "source": [
    "import random"
   ]
  },
  {
   "cell_type": "code",
   "execution_count": 23,
   "id": "678e150e-24d9-4c70-8b41-153f49546f17",
   "metadata": {},
   "outputs": [
    {
     "name": "stdin",
     "output_type": "stream",
     "text": [
      "enter the start num1: 1\n",
      "enter the  end num2: 90\n"
     ]
    },
    {
     "name": "stdout",
     "output_type": "stream",
     "text": [
      "36\n",
      "even number is 36\n"
     ]
    }
   ],
   "source": [
    "start=eval(input(\"enter the start num1:\"))\n",
    "end=eval(input(\"enter the  end num2:\"))\n",
    "num=random.randint(1,100)\n",
    "print(num)\n",
    "if num%2==0:\n",
    "    print(f\"even number is {num}\")\n",
    "else:\n",
    "    print(f\"odd number is {num}\")"
   ]
  },
  {
   "cell_type": "raw",
   "id": "aec521fc-8dd8-4dc5-8a8c-629b6bb47b4d",
   "metadata": {},
   "source": [
    "import random"
   ]
  },
  {
   "cell_type": "code",
   "execution_count": 16,
   "id": "a8073067-2c47-4371-90a8-395d1e5ad2b7",
   "metadata": {},
   "outputs": [
    {
     "name": "stdout",
     "output_type": "stream",
     "text": [
      "even number is 90\n"
     ]
    }
   ],
   "source": [
    "num1=random.randint(1,100)\n",
    "if num1%2==0:\n",
    "     print(f\"even number is {num1}\")\n",
    "else:\n",
    "     print(f\"odd number is {num1}\")\n",
    "    "
   ]
  },
  {
   "cell_type": "code",
   "execution_count": 13,
   "id": "db38b775-efe9-49cb-9dbb-78f004c0c01f",
   "metadata": {},
   "outputs": [],
   "source": [
    "import random"
   ]
  },
  {
   "cell_type": "code",
   "execution_count": 18,
   "id": "83b1468f-1ed4-408d-a178-153e31540c4e",
   "metadata": {},
   "outputs": [
    {
     "name": "stdout",
     "output_type": "stream",
     "text": [
      "55\n",
      "lo\n"
     ]
    }
   ],
   "source": [
    "num1=random.randint(1,100)\n",
    "print(num1)\n",
    "if num1%2==0:\n",
    "     print(\"ko\")\n",
    "else:\n",
    "     print(\"lo\")"
   ]
  },
  {
   "cell_type": "code",
   "execution_count": 24,
   "id": "cce9956d-34a9-4393-a57a-316fc22774c3",
   "metadata": {},
   "outputs": [
    {
     "name": "stdin",
     "output_type": "stream",
     "text": [
      "enthe the distance is: 60\n",
      "enthe the charge is: 3\n"
     ]
    },
    {
     "name": "stdout",
     "output_type": "stream",
     "text": [
      "the total cost of raid is 180\n"
     ]
    }
   ],
   "source": [
    "#wap ask the user enter distance\n",
    "#if distance greater than 25km\n",
    "#then enter the charge\n",
    "#print total cost\n",
    "#otherwise\n",
    "#print free raids\n",
    "distance=eval(input(\"enthe the distance is:\"))\n",
    "if distance>25:\n",
    "    charge=eval(input(\"enthe the charge is:\"))\n",
    "    total_cost=distance*charge\n",
    "    print(f\"the total cost of raid is {total_cost}\")"
   ]
  },
  {
   "cell_type": "code",
   "execution_count": 26,
   "id": "a76bbce6-5a03-43d7-88d1-2c0617723bdc",
   "metadata": {},
   "outputs": [
    {
     "name": "stdin",
     "output_type": "stream",
     "text": [
      "enter the distance is: 50\n",
      "enter the cutoff distance is: 25\n"
     ]
    },
    {
     "name": "stdout",
     "output_type": "stream",
     "text": [
      "good new your charge is applicable for only remaining 25\n",
      "the charge distance is 25\n"
     ]
    },
    {
     "name": "stdin",
     "output_type": "stream",
     "text": [
      "enthe the charge is: 5\n"
     ]
    },
    {
     "name": "stdout",
     "output_type": "stream",
     "text": [
      "the amount to pay for raid is:125\n"
     ]
    }
   ],
   "source": [
    "#wap ask the user enter distance\n",
    "#cutoff distance enter the number=#25\n",
    "#if distance greater than 25km\n",
    "#print(\"good new your charge is applicable for only remaining 25\")\n",
    "#charge distance\n",
    "#enter the charge\n",
    "#print total cost\n",
    "#otherwise\n",
    "#print free raids\n",
    "distance=eval(input(\"enter the distance is:\"))\n",
    "cutoff_distance=eval(input(\"enter the cutoff distance is:\"))\n",
    "if distance>25:\n",
    "    print(\"good new your charge is applicable for only remaining 25\")\n",
    "    charge_distance=distance-cutoff_distance\n",
    "    print(f\"the charge distance is {charge_distance}\")\n",
    "    charge=eval(input(\"enthe the charge is:\"))\n",
    "    total_cost=charge*charge_distance\n",
    "    print(f\"the amount to pay for raid is:{total_cost}\")\n",
    "else:\n",
    "    print(\"free raids\")\n"
   ]
  },
  {
   "cell_type": "code",
   "execution_count": 27,
   "id": "86d4b61d-ceab-4932-a679-b7fd0e096928",
   "metadata": {},
   "outputs": [],
   "source": [
    "import random"
   ]
  },
  {
   "cell_type": "code",
   "execution_count": 31,
   "id": "5d430cca-8818-4de1-ad8b-3ef3c9386ac8",
   "metadata": {},
   "outputs": [
    {
     "name": "stdout",
     "output_type": "stream",
     "text": [
      "4\n"
     ]
    },
    {
     "name": "stdin",
     "output_type": "stream",
     "text": [
      "enter the number : 6\n"
     ]
    },
    {
     "name": "stdout",
     "output_type": "stream",
     "text": [
      "you lost\n"
     ]
    }
   ],
   "source": [
    "#wap ask the user enter a random variable between 1 to 10 treat this as num1\n",
    "#ask the user enter the number for keyboard, treat this as num2\n",
    "#if num1=num2\n",
    "#print(you win)\n",
    "#otherwise\n",
    "#print(you lose)\n",
    "num1=random.randint(1,10)\n",
    "print(num1)\n",
    "num2=input(\"enter the number :\")\n",
    "if num1==num2:\n",
    "    print(\"you win\")\n",
    "else:\n",
    "     print(\"you lost\")"
   ]
  },
  {
   "cell_type": "markdown",
   "id": "922a693d-6f27-4002-8572-98632a77f7dc",
   "metadata": {},
   "source": [
    "- till now we have seen are conditional program\n",
    "- which means if that condiotion is true,will get another answer\n",
    "- if that condition false then will get another answer\n",
    "- if-else-else\n",
    "- two conditions means 3results\n",
    "- if has one condition\n",
    "- elif have two conditions\n",
    "- if both false then the result in else\n"
   ]
  },
  {
   "cell_type": "markdown",
   "id": "4bb87ae6-ca5d-4043-8275-c57ea7ecb182",
   "metadata": {},
   "source": [
    "**if-elif-else**"
   ]
  },
  {
   "cell_type": "code",
   "execution_count": null,
   "id": "757d3d52-9fce-423d-957b-72168467be7e",
   "metadata": {},
   "outputs": [],
   "source": [
    "- syntax\n",
    "#if <condtion>:\n",
    "#    <statements>\n",
    "# elif <condition>:\n",
    "#       <statements>\n",
    "#else:\n",
    "#    <statements>"
   ]
  },
  {
   "cell_type": "code",
   "execution_count": 32,
   "id": "0bf9f3be-7f9b-4156-824d-1bde0ded88ab",
   "metadata": {},
   "outputs": [
    {
     "name": "stdin",
     "output_type": "stream",
     "text": [
      "enter the number 5\n"
     ]
    },
    {
     "name": "stdout",
     "output_type": "stream",
     "text": [
      "enter a valid number\n"
     ]
    }
   ],
   "source": [
    "#wap ask the user enter a number \n",
    "#if number equal to 1 then print one\n",
    "#if number equal to 2then print two\n",
    "#if number equal to 3 then print three\n",
    "#otherwise\n",
    "#print entera valid number\n",
    "num1=eval(input(\"enter the number\"))\n",
    "if num1==1:\n",
    "    print(\"one\")\n",
    "elif num1==2:\n",
    "     print(\"two\")\n",
    "elif num1==3:\n",
    "     print(\"three\")\n",
    "else:\n",
    "     print(\"enter a valid number\")\n"
   ]
  },
  {
   "cell_type": "code",
   "execution_count": 33,
   "id": "3967875a-a6f2-4381-babc-481aacd9a83f",
   "metadata": {},
   "outputs": [
    {
     "name": "stdin",
     "output_type": "stream",
     "text": [
      "enter the number 7\n"
     ]
    },
    {
     "name": "stdout",
     "output_type": "stream",
     "text": [
      "positive\n"
     ]
    }
   ],
   "source": [
    "#wap ask the user enter a number \n",
    "#if number greater than zero, then print positive\n",
    "#if number lesser then zero, print negative\n",
    "#otherwise\n",
    "#print enter zero\n",
    "num1=eval(input(\"enter the number\"))\n",
    "if num1>0:\n",
    "    print(\"positive\")\n",
    "elif num1<0:\n",
    "    print(\"negative\")\n",
    "else:\n",
    "    print(\"zero\")\n"
   ]
  },
  {
   "cell_type": "code",
   "execution_count": 35,
   "id": "7bdd8ad7-4979-4b65-9b2e-b73b8a747b65",
   "metadata": {},
   "outputs": [
    {
     "name": "stdin",
     "output_type": "stream",
     "text": [
      "enter the number 40\n"
     ]
    },
    {
     "name": "stdout",
     "output_type": "stream",
     "text": [
      "D grade\n"
     ]
    }
   ],
   "source": [
    "#wap ask the user enter a percentage of marks 1,100\n",
    "#if percentage of marks greater than 90 marks grade A\n",
    "#if percentage of marks between 75 to 90 marks grade b\n",
    "#if percentage of marks between 50 to 75 marks grade c\n",
    "#if percentage of marks between 35 to 50 marks grade d\n",
    "#if percentage less than 35 if fail\n",
    "percentage=eval(input(\"enter the number\"))\n",
    "if percentage>=90:\n",
    "    print(\"A grade\")\n",
    "elif percentage>=75:\n",
    "    print(\"B grade\")\n",
    "elif percentage>=50:\n",
    "    print(\"C grade\")\n",
    "elif percentage>=35:\n",
    "    print(\"D grade\")\n",
    "else:\n",
    "    print(\"fail\")"
   ]
  },
  {
   "cell_type": "code",
   "execution_count": 36,
   "id": "fcf7c6c8-5ed5-4df6-a774-b8e669eb2e0c",
   "metadata": {},
   "outputs": [
    {
     "name": "stdin",
     "output_type": "stream",
     "text": [
      "enter the age  60\n"
     ]
    },
    {
     "name": "stdout",
     "output_type": "stream",
     "text": [
      "seniour citizen\n"
     ]
    }
   ],
   "source": [
    "#wap ask the user enter age\n",
    "#if the  age greater than75 print old age \n",
    "#if the age is between 50 and 75 print seniour citizen\n",
    "#if the age is between 30 and 50 print middle\n",
    "#if the age is between 15 and 30 print young age \n",
    "#if the age less than 15 print kid\n",
    "age=eval(input(\"enter the age \"))\n",
    "if age>=75:\n",
    "    print(\"old age\")\n",
    "elif age>=50:\n",
    "    print(\"seniour citizen\")\n",
    "elif age>=30:\n",
    "    print(\"middle age\")\n",
    "elif age>=15:\n",
    "    print(\"young age\")\n",
    "else:\n",
    "    print(\"kid\")"
   ]
  },
  {
   "cell_type": "code",
   "execution_count": 7,
   "id": "b415296c-9ed1-4fea-942d-bf8d68981c27",
   "metadata": {},
   "outputs": [
    {
     "name": "stdin",
     "output_type": "stream",
     "text": [
      "enter the course name datascience\n",
      "enter the institute name  nareshit\n"
     ]
    },
    {
     "name": "stdout",
     "output_type": "stream",
     "text": [
      "you are good\n"
     ]
    }
   ],
   "source": [
    "#wap ask the user enter the course\n",
    "#ask the user enter the institute\n",
    "#if the course equal to data science and institute equal to naresh it\n",
    "# then you are good\n",
    "#otherwise\n",
    "#you are bad\n",
    "datascience=input(\"enter the course name\")\n",
    "nareshit=input(\"enter the institute name \")\n",
    "if course==datascience and institute==nareshit:\n",
    "    print(\"you are good\")\n",
    "else:\n",
    "     print(\"you are bad\")\n",
    "    "
   ]
  },
  {
   "cell_type": "code",
   "execution_count": 8,
   "id": "8cb54892-5ff8-452a-99e2-0f95bb1ba7a2",
   "metadata": {},
   "outputs": [],
   "source": [
    "import random"
   ]
  },
  {
   "cell_type": "code",
   "execution_count": 10,
   "id": "035afbff-3a49-4789-b66e-a4b529169555",
   "metadata": {},
   "outputs": [
    {
     "name": "stdout",
     "output_type": "stream",
     "text": [
      "7\n"
     ]
    },
    {
     "name": "stdin",
     "output_type": "stream",
     "text": [
      "enter the number 7\n"
     ]
    },
    {
     "name": "stdout",
     "output_type": "stream",
     "text": [
      "you won\n"
     ]
    }
   ],
   "source": [
    "#wap ask the user enter a random number between 1 to 10,treat this as number1\n",
    "#ask the user enter another number from keyboard,treat this as number2\n",
    "#if number1 equal to number 2\n",
    "#print you won\n",
    "#othewise\n",
    "#print you lost\n",
    "number1=random.randint(1,10)\n",
    "print(number1)\n",
    "number2=eval(input(\"enter the number\"))\n",
    "if number1==number2:\n",
    "    print(\"you won\")\n",
    "else:\n",
    "     print(\"you lost\")"
   ]
  },
  {
   "cell_type": "code",
   "execution_count": null,
   "id": "0d034f8e-2055-460e-a9a6-20870679728c",
   "metadata": {},
   "outputs": [],
   "source": []
  }
 ],
 "metadata": {
  "kernelspec": {
   "display_name": "Python 3 (ipykernel)",
   "language": "python",
   "name": "python3"
  },
  "language_info": {
   "codemirror_mode": {
    "name": "ipython",
    "version": 3
   },
   "file_extension": ".py",
   "mimetype": "text/x-python",
   "name": "python",
   "nbconvert_exporter": "python",
   "pygments_lexer": "ipython3",
   "version": "3.11.7"
  }
 },
 "nbformat": 4,
 "nbformat_minor": 5
}
